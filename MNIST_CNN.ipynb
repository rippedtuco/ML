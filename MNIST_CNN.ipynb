{
  "nbformat": 4,
  "nbformat_minor": 0,
  "metadata": {
    "colab": {
      "provenance": [],
      "authorship_tag": "ABX9TyOX/HV1mWfu9vXT5rAHCcZJ",
      "include_colab_link": true
    },
    "kernelspec": {
      "name": "python3",
      "display_name": "Python 3"
    },
    "language_info": {
      "name": "python"
    }
  },
  "cells": [
    {
      "cell_type": "markdown",
      "metadata": {
        "id": "view-in-github",
        "colab_type": "text"
      },
      "source": [
        "<a href=\"https://colab.research.google.com/github/rippedtuco/ML/blob/main/MNIST_CNN.ipynb\" target=\"_parent\"><img src=\"https://colab.research.google.com/assets/colab-badge.svg\" alt=\"Open In Colab\"/></a>"
      ]
    },
    {
      "cell_type": "code",
      "execution_count": null,
      "metadata": {
        "colab": {
          "base_uri": "https://localhost:8080/"
        },
        "id": "ienH44ZIH837",
        "outputId": "b257fb7e-069b-4e07-a945-a761802691b0"
      },
      "outputs": [
        {
          "output_type": "stream",
          "name": "stdout",
          "text": [
            "Model: \"sequential_19\"\n",
            "_________________________________________________________________\n",
            " Layer (type)                Output Shape              Param #   \n",
            "=================================================================\n",
            " conv2d_68 (Conv2D)          (None, 28, 28, 32)        160       \n",
            "                                                                 \n",
            " max_pooling2d_54 (MaxPoolin  (None, 14, 14, 32)       0         \n",
            " g2D)                                                            \n",
            "                                                                 \n",
            " conv2d_69 (Conv2D)          (None, 14, 14, 64)        8256      \n",
            "                                                                 \n",
            " max_pooling2d_55 (MaxPoolin  (None, 7, 7, 64)         0         \n",
            " g2D)                                                            \n",
            "                                                                 \n",
            " conv2d_70 (Conv2D)          (None, 7, 7, 64)          16448     \n",
            "                                                                 \n",
            " max_pooling2d_56 (MaxPoolin  (None, 3, 3, 64)         0         \n",
            " g2D)                                                            \n",
            "                                                                 \n",
            " conv2d_71 (Conv2D)          (None, 3, 3, 64)          16448     \n",
            "                                                                 \n",
            " max_pooling2d_57 (MaxPoolin  (None, 1, 1, 64)         0         \n",
            " g2D)                                                            \n",
            "                                                                 \n",
            " flatten_8 (Flatten)         (None, 64)                0         \n",
            "                                                                 \n",
            " dense_16 (Dense)            (None, 64)                4160      \n",
            "                                                                 \n",
            " dense_17 (Dense)            (None, 10)                650       \n",
            "                                                                 \n",
            "=================================================================\n",
            "Total params: 46,122\n",
            "Trainable params: 46,122\n",
            "Non-trainable params: 0\n",
            "_________________________________________________________________\n",
            "Epoch 1/10\n",
            "1875/1875 [==============================] - 74s 39ms/step - loss: 0.2294 - accuracy: 0.9265\n",
            "Epoch 2/10\n",
            "1875/1875 [==============================] - 77s 41ms/step - loss: 0.0691 - accuracy: 0.9791\n",
            "Epoch 3/10\n",
            "1875/1875 [==============================] - 74s 40ms/step - loss: 0.0508 - accuracy: 0.9847\n",
            "Epoch 4/10\n",
            "1875/1875 [==============================] - 74s 40ms/step - loss: 0.0421 - accuracy: 0.9868\n",
            "Epoch 5/10\n",
            "1875/1875 [==============================] - 76s 40ms/step - loss: 0.0350 - accuracy: 0.9890\n",
            "Epoch 6/10\n",
            "1875/1875 [==============================] - 74s 39ms/step - loss: 0.0283 - accuracy: 0.9907\n",
            "Epoch 7/10\n",
            "1875/1875 [==============================] - 76s 40ms/step - loss: 0.0264 - accuracy: 0.9915\n",
            "Epoch 8/10\n",
            "1875/1875 [==============================] - 73s 39ms/step - loss: 0.0219 - accuracy: 0.9928\n",
            "Epoch 9/10\n",
            "1875/1875 [==============================] - 73s 39ms/step - loss: 0.0194 - accuracy: 0.9938\n",
            "Epoch 10/10\n",
            "1875/1875 [==============================] - 74s 39ms/step - loss: 0.0180 - accuracy: 0.9939\n"
          ]
        },
        {
          "output_type": "execute_result",
          "data": {
            "text/plain": [
              "<keras.callbacks.History at 0x7f41c2b40370>"
            ]
          },
          "metadata": {},
          "execution_count": 25
        }
      ],
      "source": [
        "import numpy as np\n",
        "import tensorflow as tf\n",
        "from tensorflow import keras\n",
        "from keras import layers\n",
        "from keras import models as KM\n",
        "from keras.datasets import mnist\n",
        "\n",
        "#Extracting data from the dataset\n",
        "mnist_dataset=tf.keras.datasets.mnist\n",
        "#Creating the training and the test sets.\n",
        "(training_images,training_labels), (testing_images,testing_labels)=mnist_dataset.load_data()\n",
        "#Normalising the data\n",
        "training_images , testing_images = training_images/255.0 , testing_images/255.0\n",
        "#Expanding the dimesnsions\n",
        "training_images,testing_images=np.expand_dims(training_images,axis=-1), np.expand_dims(testing_images, axis=-1)\n",
        "\n",
        "\n",
        "#CNNModel\n",
        "cnn_model=KM.Sequential()\n",
        "#Layer_1\n",
        "cnn_model.add(layers.Conv2D(32, (2,2), activation='relu', padding='same', input_shape=(28,28,1)))\n",
        "cnn_model.add(layers.MaxPooling2D(2,2))\n",
        "#Layer_2\n",
        "cnn_model.add(layers.Conv2D(64, (2,2), padding='same',activation='relu'))\n",
        "cnn_model.add(layers.MaxPooling2D(2,2))\n",
        "#Layer_3\n",
        "cnn_model.add(layers.Conv2D(64, (2,2),padding='same', activation='relu'))\n",
        "cnn_model.add(layers.MaxPooling2D(2,2))\n",
        "#Layer_4\n",
        "cnn_model.add(layers.Conv2D(64, (2,2), padding='same',activation='relu'))\n",
        "cnn_model.add(layers.MaxPooling2D(2,2))\n",
        "\n",
        "cnn_model.add(layers.Flatten())\n",
        "cnn_model.add(layers.Dense(64, activation='relu'))\n",
        "cnn_model.add(layers.Dense(10, activation='softmax'))\n",
        "\n",
        "cnn_model.summary()\n",
        "\n",
        "cnn_model.compile(optimizer='adam', loss='sparse_categorical_crossentropy', metrics=['accuracy'])\n",
        "cnn_model.fit(training_images, training_labels, epochs=10)\n"
      ]
    }
  ]
}