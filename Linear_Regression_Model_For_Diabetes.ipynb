{
  "nbformat": 4,
  "nbformat_minor": 0,
  "metadata": {
    "colab": {
      "provenance": []
    },
    "kernelspec": {
      "name": "python3",
      "display_name": "Python 3"
    },
    "language_info": {
      "name": "python"
    }
  },
  "cells": [
    {
      "cell_type": "code",
      "execution_count": null,
      "metadata": {
        "colab": {
          "base_uri": "https://localhost:8080/"
        },
        "id": "oDFLjODoW71_",
        "outputId": "b3b70d7b-64e9-43d0-ab16-d8b6ee1bbf3f"
      },
      "outputs": [
        {
          "output_type": "stream",
          "name": "stdout",
          "text": [
            "[ 0.03807591  0.05068012  0.06169621  0.02187235 -0.0442235  -0.03482076\n",
            " -0.04340085 -0.00259226  0.01990842 -0.01764613]\n",
            "151.0\n",
            "['age', 'sex', 'bmi', 'bp', 's1', 's2', 's3', 's4', 's5', 's6']\n",
            "(442, 10)\n",
            "(442,)\n",
            "[-0.06726771 -0.04464164 -0.05901875  0.03220097 -0.05110326 -0.04953874\n",
            " -0.01026611 -0.03949338  0.00200784  0.02377494]\n",
            "Coefficients:  [   6.64402942 -294.64597787  525.07463031  337.10726253 -889.78443868\n",
            "  429.95216037  193.63762147  308.11694955  718.02225531  127.7825672 ]\n",
            "Intercept:  151.758623436091\n",
            "R-2 Score: 0.5224672515103537\n",
            "MSE: 2756.396191548754\n"
          ]
        }
      ],
      "source": [
        "from sklearn import datasets\n",
        "from sklearn.model_selection import train_test_split\n",
        "from sklearn import linear_model\n",
        "from sklearn.metrics import mean_squared_error, r2_score\n",
        "\n",
        "diabetes=datasets.load_diabetes()\n",
        "\n",
        "print(diabetes.data[0])\n",
        "print(diabetes.target[0])\n",
        "\n",
        "print(diabetes.feature_names)\n",
        "\n",
        "X,Y = datasets.load_diabetes(return_X_y=True)\n",
        "\n",
        "print(X.shape)\n",
        "print(Y.shape)\n",
        "\n",
        "X_train, X_test, Y_train, Y_test = train_test_split(X, Y, test_size=0.2)\n",
        "\n",
        "model_diab=linear_model.LinearRegression()\n",
        "\n",
        "model_diab.fit(X_train,Y_train)\n",
        "\n",
        "predi=model_diab.predict(X_test)\n",
        "\n",
        "print('Coefficients: ',model_diab.coef_)\n",
        "\n",
        "print('Intercept: ',model_diab.intercept_)\n",
        "\n",
        "print('R-2 Score:',r2_score(Y_test,predi))\n",
        "\n",
        "print('MSE:',mean_squared_error(Y_test,predi))\n"
      ]
    },
    {
      "cell_type": "code",
      "source": [],
      "metadata": {
        "id": "R5UuGwTenjGM"
      },
      "execution_count": null,
      "outputs": []
    }
  ]
}