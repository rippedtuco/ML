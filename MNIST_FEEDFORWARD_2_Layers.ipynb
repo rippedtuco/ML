{
  "nbformat": 4,
  "nbformat_minor": 0,
  "metadata": {
    "colab": {
      "provenance": [],
      "authorship_tag": "ABX9TyO7R4Byqqyg60iJGHPh0qL0",
      "include_colab_link": true
    },
    "kernelspec": {
      "name": "python3",
      "display_name": "Python 3"
    },
    "language_info": {
      "name": "python"
    }
  },
  "cells": [
    {
      "cell_type": "markdown",
      "metadata": {
        "id": "view-in-github",
        "colab_type": "text"
      },
      "source": [
        "<a href=\"https://colab.research.google.com/github/rippedtuco/ML/blob/main/MNIST_FEEDFORWARD_2_Layers.ipynb\" target=\"_parent\"><img src=\"https://colab.research.google.com/assets/colab-badge.svg\" alt=\"Open In Colab\"/></a>"
      ]
    },
    {
      "cell_type": "code",
      "execution_count": null,
      "metadata": {
        "colab": {
          "base_uri": "https://localhost:8080/"
        },
        "id": "gMUe8Ff_sulq",
        "outputId": "2e2fac38-2940-47fc-ecc3-f3c16b6113e7"
      },
      "outputs": [
        {
          "output_type": "stream",
          "name": "stdout",
          "text": [
            "Model: \"model_1\"\n",
            "_________________________________________________________________\n",
            " Layer (type)                Output Shape              Param #   \n",
            "=================================================================\n",
            " input_2 (InputLayer)        [(None, 28, 28)]          0         \n",
            "                                                                 \n",
            " flatten_1 (Flatten)         (None, 784)               0         \n",
            "                                                                 \n",
            " dense_2 (Dense)             (None, 512)               401920    \n",
            "                                                                 \n",
            " dense_3 (Dense)             (None, 10)                5130      \n",
            "                                                                 \n",
            "=================================================================\n",
            "Total params: 407,050\n",
            "Trainable params: 407,050\n",
            "Non-trainable params: 0\n",
            "_________________________________________________________________\n",
            "Epoch 1/10\n",
            "1875/1875 [==============================] - 13s 6ms/step - loss: 0.2040 - accuracy: 0.9398\n",
            "Epoch 2/10\n",
            "1875/1875 [==============================] - 10s 6ms/step - loss: 0.0816 - accuracy: 0.9752\n",
            "Epoch 3/10\n",
            "1875/1875 [==============================] - 10s 6ms/step - loss: 0.0517 - accuracy: 0.9832\n",
            "Epoch 4/10\n",
            "1875/1875 [==============================] - 10s 6ms/step - loss: 0.0369 - accuracy: 0.9883\n",
            "Epoch 5/10\n",
            "1875/1875 [==============================] - 10s 5ms/step - loss: 0.0266 - accuracy: 0.9907\n",
            "Epoch 6/10\n",
            "1875/1875 [==============================] - 10s 5ms/step - loss: 0.0218 - accuracy: 0.9931\n",
            "Epoch 7/10\n",
            "1875/1875 [==============================] - 10s 6ms/step - loss: 0.0168 - accuracy: 0.9948\n",
            "Epoch 8/10\n",
            "1875/1875 [==============================] - 10s 6ms/step - loss: 0.0143 - accuracy: 0.9952\n",
            "Epoch 9/10\n",
            "1875/1875 [==============================] - 11s 6ms/step - loss: 0.0104 - accuracy: 0.9964\n",
            "Epoch 10/10\n",
            "1875/1875 [==============================] - 10s 5ms/step - loss: 0.0127 - accuracy: 0.9960\n"
          ]
        },
        {
          "output_type": "execute_result",
          "data": {
            "text/plain": [
              "<keras.callbacks.History at 0x7f62823b4880>"
            ]
          },
          "metadata": {},
          "execution_count": 3
        }
      ],
      "source": [
        "import tensorflow as tf\n",
        "from keras import layers\n",
        "from keras import models as KM\n",
        "from keras.datasets import mnist\n",
        "\n",
        "#Extracting data from the dataset\n",
        "mnist_dataset=tf.keras.datasets.mnist\n",
        "#Creating the training and the test sets.\n",
        "(training_images,training_labels), (testing_images,testing_labels)=mnist_dataset.load_data()\n",
        "#Normalising the data\n",
        "training_images , testing_images = training_images/255.0 , testing_images/255.0\n",
        "\n",
        "#Feed_Forward_Model\n",
        "#Giving input of images that have height and width 28*28\n",
        "ip = layers.Input(shape=(28, 28))\n",
        "#Flatenning the image                      \n",
        "layer_1 = layers.Flatten()(ip)                              \n",
        "layer_2 = layers.Dense(512, activation=tf.nn.relu)(layer_1)            \n",
        "op = layers.Dense(10, activation=tf.nn.softmax)(layer_2)\n",
        "\n",
        "model = KM.Model(ip, op)\n",
        "model.summary()\n",
        "model.compile(optimizer=\"adam\",\n",
        "                loss=\"sparse_categorical_crossentropy\",\n",
        "                metrics=[\"accuracy\"])\n",
        "model.fit(training_images, training_labels, epochs=10)"
      ]
    }
  ]
}